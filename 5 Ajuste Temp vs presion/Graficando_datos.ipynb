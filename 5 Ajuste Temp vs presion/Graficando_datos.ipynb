{
 "cells": [
  {
   "cell_type": "code",
   "execution_count": 1,
   "id": "f2239e32",
   "metadata": {},
   "outputs": [],
   "source": [
    "import numpy as np\n",
    "import matplotlib.pyplot as plt\n",
    "from scipy.optimize import curve_fit"
   ]
  },
  {
   "cell_type": "code",
   "execution_count": 42,
   "id": "bb7f0e8d",
   "metadata": {},
   "outputs": [],
   "source": [
    "datos = np.loadtxt('presion_temp.txt', skiprows=1, comments='#',delimiter=' ',unpack=True)"
   ]
  },
  {
   "cell_type": "code",
   "execution_count": 43,
   "id": "abb1bc7e",
   "metadata": {},
   "outputs": [],
   "source": [
    "h = datos[0] #altura\n",
    "T = datos[2] #temperatura"
   ]
  },
  {
   "cell_type": "code",
   "execution_count": 44,
   "id": "a6ba6f50",
   "metadata": {},
   "outputs": [
    {
     "data": {
      "text/plain": [
       "[<matplotlib.lines.Line2D at 0x2350b06ff10>]"
      ]
     },
     "execution_count": 44,
     "metadata": {},
     "output_type": "execute_result"
    },
    {
     "data": {
      "image/png": "[encoded data removed]",
      "text/plain": [
       "<Figure size 432x288 with 1 Axes>"
      ]
     },
     "metadata": {
      "needs_background": "light"
     },
     "output_type": "display_data"
    }
   ],
   "source": [
    "plt.figure()\n",
    "plt.plot(h,T,'bo')"
   ]
  },
  {
   "cell_type": "code",
   "execution_count": 53,
   "id": "e2080185",
   "metadata": {},
   "outputs": [
    {
     "name": "stdout",
     "output_type": "stream",
     "text": [
      "best_values= [ 3.12746581e-07 -1.06079216e-02  9.97715227e+01]\n",
      "matriz de covarianza=\n",
      " [[ 3.40360954e-17 -5.34468184e-13  1.25326849e-09]\n",
      " [-5.34468184e-13  9.45462136e-09 -2.49400487e-05]\n",
      " [ 1.25326849e-09 -2.49400487e-05  8.96449901e-02]]\n",
      "desviacion estándar= [5.83404623e-09 9.72348773e-05 2.99407732e-01]\n"
     ]
    }
   ],
   "source": [
    "def fun(x, a,b,c):\n",
    "    return a*x**2 + b*x + c \n",
    "\n",
    "best_values, covar = curve_fit(fun,h, T)\n",
    "print('best_values=',best_values)\n",
    "print('matriz de covarianza=\\n',covar)\n",
    "print('desviacion estándar=',np.sqrt(np.diag(covar)))"
   ]
  },
  {
   "cell_type": "code",
   "execution_count": null,
   "id": "0c8af7f2",
   "metadata": {},
   "outputs": [],
   "source": []
  }
 ],
 "metadata": {
  "kernelspec": {
   "display_name": "Python 3",
   "language": "python",
   "name": "python3"
  },
  "language_info": {
   "codemirror_mode": {
    "name": "ipython",
    "version": 3
   },
   "file_extension": ".py",
   "mimetype": "text/x-python",
   "name": "python",
   "nbconvert_exporter": "python",
   "pygments_lexer": "ipython3",
   "version": "3.8.5"
  }
 },
 "nbformat": 4,
 "nbformat_minor": 5
}
