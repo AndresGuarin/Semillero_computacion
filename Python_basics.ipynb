{
 "cells": [
  {
   "cell_type": "markdown",
   "id": "60ca3c55",
   "metadata": {},
   "source": [
    "# Semillero FICOMACO"
   ]
  },
  {
   "cell_type": "markdown",
   "id": "b360309d",
   "metadata": {},
   "source": [
    "Este código se estructura de la siguiente manera\n",
    "\n",
    "* [1. Algebra vectorial](#section-1)\n",
    "* [2. Ejemplo tiro parabólico](#section-2)\n",
    "* [3. Ajuste de datos](#section-3)\n",
    "* [4. Machine learning](#section-4)"
   ]
  },
  {
   "cell_type": "code",
   "execution_count": 2,
   "id": "6236bbaa",
   "metadata": {},
   "outputs": [],
   "source": [
    "# Importación de librerias\n",
    "import numpy as np\n",
    "import pandas as pd\n",
    "\n",
    "import matplotlib.pyplot as plt\n",
    "from matplotlib.colors import ListedColormap\n",
    "\n",
    "from scipy.optimize import curve_fit\n",
    "from scipy.interpolate import interp1d"
   ]
  },
  {
   "cell_type": "markdown",
   "id": "958c4d20",
   "metadata": {},
   "source": [
    "## 1. Algebra vectorial <a class=\"anchor\" id=\"section-1\"></a>"
   ]
  },
  {
   "cell_type": "markdown",
   "id": "b4562f66",
   "metadata": {},
   "source": [
    "### Constructores de vectores basicos"
   ]
  },
  {
   "cell_type": "code",
   "execution_count": 102,
   "id": "273d5910",
   "metadata": {},
   "outputs": [
    {
     "name": "stdout",
     "output_type": "stream",
     "text": [
      "a = [0.  0.1 0.2 0.3 0.4 0.5 0.6 0.7 0.8 0.9]  shape = (10,)\n",
      "b = [0.  0.2 0.4 0.6 0.8 1. ]  shape = (6,)\n",
      "c = [5 6 7 8 9]  shape = (5,)\n"
     ]
    }
   ],
   "source": [
    "a = np.arange(0, 1, 0.1) # np.arange(valor inicial, valor final, paso)\n",
    "print('a =',a,' shape =', a.shape)\n",
    "\n",
    "b = np.linspace(0, 1, 6) # np.linspace(valor inicial, valor final, No. de datos)\n",
    "print('b =',b,' shape =', b.shape)\n",
    "\n",
    "c = np.array([5,6,7,8,9])\n",
    "print('c =',c,' shape =', c.shape)"
   ]
  },
  {
   "cell_type": "code",
   "execution_count": 20,
   "id": "d314c443",
   "metadata": {
    "scrolled": true
   },
   "outputs": [
    {
     "name": "stdout",
     "output_type": "stream",
     "text": [
      "o = [1. 1. 1. 1. 1. 1. 1. 1. 1. 1.]\n",
      "z = [0. 0. 0. 0. 0. 0. 0. 0.]\n",
      "shape = (8,)\n",
      "\n",
      "z2 = [[0.]\n",
      " [0.]\n",
      " [0.]\n",
      " [0.]\n",
      " [0.]\n",
      " [0.]\n",
      " [0.]\n",
      " [0.]]  shape = (8, 1)\n",
      "\n",
      "z3 = [[0. 0.]\n",
      " [0. 0.]\n",
      " [0. 0.]\n",
      " [0. 0.]]  shape = (4, 2)\n"
     ]
    },
    {
     "data": {
      "text/plain": [
       "(None, None)"
      ]
     },
     "execution_count": 20,
     "metadata": {},
     "output_type": "execute_result"
    }
   ],
   "source": [
    "o = np.ones(10) #np.ones(No. datos)\n",
    "print('o =',o)\n",
    "\n",
    "z = np.zeros(8) #np.zeros(No. datos)\n",
    "print('z =',z)\n",
    "\n",
    "print('shape =', z.shape)\n",
    "z2 = z.reshape(8,1) #np.reshape( filas, columnas )\n",
    "print(''), print('z2 =',z2,' shape =',z2.shape)\n",
    "\n",
    "z3 = z.reshape(4,2)\n",
    "print(''), print('z3 =',z3,' shape =',z3.shape)"
   ]
  },
  {
   "cell_type": "markdown",
   "id": "ecd2519d",
   "metadata": {},
   "source": [
    "### Constructores de números aleatorios"
   ]
  },
  {
   "cell_type": "code",
   "execution_count": 47,
   "id": "7ef1a921",
   "metadata": {},
   "outputs": [
    {
     "name": "stdout",
     "output_type": "stream",
     "text": [
      "u = [ 1.37971376  0.23024416 -1.64401574  1.10490927  0.4387865   0.20589173]\n",
      "v = [0.30362794 0.06267476 0.93347205 0.38054266 0.54286877 0.46799086]\n",
      "w = [9 6 5 6 4]\n"
     ]
    },
    {
     "data": {
      "text/plain": [
       "(None, None, None)"
      ]
     },
     "execution_count": 47,
     "metadata": {},
     "output_type": "execute_result"
    }
   ],
   "source": [
    "# Distribucion normal, con promedio alrededor de 1\n",
    "u=np.random.normal(size=6)\n",
    "\n",
    "# Distribucion uniforme, con números entre 0 y 1\n",
    "v=np.random.uniform(size=6)\n",
    "\n",
    "# Números aleatorios enteros\n",
    "w=np.random.randint(low=1, high=10, size=5)\n",
    "\n",
    "print('u =',u), print('v =',v), print('w =',w)"
   ]
  },
  {
   "cell_type": "code",
   "execution_count": 51,
   "id": "2c968f02",
   "metadata": {},
   "outputs": [
    {
     "name": "stdout",
     "output_type": "stream",
     "text": [
      "u1 = [5.02685656 4.8358309  4.90295835 4.24836797 4.80238442]\n",
      "v1 = [3.75012213 5.08773051 3.45725491 6.19457036]\n"
     ]
    },
    {
     "data": {
      "text/plain": [
       "(None, None)"
      ]
     },
     "execution_count": 51,
     "metadata": {},
     "output_type": "execute_result"
    }
   ],
   "source": [
    "u1=np.random.normal(loc=5, scale=0.5, size=5) \n",
    "#loc= valor promedio, scale = desviacion estandar, size = No. datos\n",
    "\n",
    "v1=np.random.uniform(low=1, high=8, size=4)\n",
    "#low= valor minimo, high = valor maximo, size = No. de datos\n",
    "\n",
    "print('u1 =',u1), print('v1 =',v1)"
   ]
  },
  {
   "cell_type": "markdown",
   "id": "4c90431d",
   "metadata": {},
   "source": [
    "### Ejemplos de uso de linspace para hacer graficos"
   ]
  },
  {
   "cell_type": "code",
   "execution_count": 58,
   "id": "3f48a7ba",
   "metadata": {
    "scrolled": true
   },
   "outputs": [
    {
     "data": {
      "text/plain": [
       "[<matplotlib.lines.Line2D at 0x1b0f3941880>]"
      ]
     },
     "execution_count": 58,
     "metadata": {},
     "output_type": "execute_result"
    },
    {
     "data": {
      "image/png": "[encoded data removed]",
      "text/plain": [
       "<Figure size 720x288 with 2 Axes>"
      ]
     },
     "metadata": {
      "needs_background": "light"
     },
     "output_type": "display_data"
    }
   ],
   "source": [
    "t1 = np.linspace(0,6,10) #contiene 10 datos\n",
    "t2 = np.linspace(0,6,20) #contiene 20 datos\n",
    "\n",
    "y1 = np.sin(t1)\n",
    "y2 = np.sin(t2)\n",
    "\n",
    "plt.figure(figsize=(10,4))\n",
    "plt.subplot(121) #grafico 1\n",
    "plt.plot(t1,y1)\n",
    "plt.subplot(122) #grafico 2\n",
    "plt.plot(t2,y2)"
   ]
  },
  {
   "cell_type": "markdown",
   "id": "f03f2060",
   "metadata": {},
   "source": [
    "En `plt.subplot(121)`: \n",
    "* Los dos primeros digitos indican que los subplots se organizan en 1 fila, 2 columnas.\n",
    "* El tercer digito dice que el índice del grafico es 1"
   ]
  },
  {
   "cell_type": "markdown",
   "id": "9d7eb326",
   "metadata": {},
   "source": [
    "### Meshgrid"
   ]
  },
  {
   "cell_type": "code",
   "execution_count": 92,
   "id": "71530044",
   "metadata": {},
   "outputs": [
    {
     "data": {
      "image/png": "[encoded data removed]",
      "text/plain": [
       "<Figure size 360x288 with 1 Axes>"
      ]
     },
     "metadata": {
      "needs_background": "light"
     },
     "output_type": "display_data"
    },
    {
     "name": "stdout",
     "output_type": "stream",
     "text": [
      "Dimensión de X =  (4, 6)\n",
      "Dimensión de Y =  (4, 6)\n"
     ]
    }
   ],
   "source": [
    "a = np.linspace(0,6,6)\n",
    "b = np.linspace(0,6,4)\n",
    "\n",
    "X, Y = np.meshgrid(a,b)\n",
    "\n",
    "plt.figure(figsize=(5,4))\n",
    "plt.plot(X,Y,'+b')\n",
    "plt.show()\n",
    "\n",
    "print('Dimensión de X = ', X.shape)\n",
    "print('Dimensión de Y = ', Y.shape)"
   ]
  },
  {
   "cell_type": "markdown",
   "id": "fe2b39f6",
   "metadata": {},
   "source": [
    "X, Y son matrices con las coordenadas de los puntos sobre el plano!"
   ]
  },
  {
   "cell_type": "markdown",
   "id": "6e727c2f",
   "metadata": {},
   "source": [
    "### Ejemplo de uso de meshgrid para hacer graficas"
   ]
  },
  {
   "cell_type": "code",
   "execution_count": 94,
   "id": "34b8e9e3",
   "metadata": {},
   "outputs": [
    {
     "name": "stdout",
     "output_type": "stream",
     "text": [
      "Using matplotlib backend: Qt5Agg\n"
     ]
    }
   ],
   "source": [
    "#muestra las graficas en una subventana nueva\n",
    "%matplotlib auto "
   ]
  },
  {
   "cell_type": "code",
   "execution_count": 85,
   "id": "26c456e0",
   "metadata": {
    "scrolled": true
   },
   "outputs": [
    {
     "data": {
      "text/plain": [
       "<mpl_toolkits.mplot3d.art3d.Poly3DCollection at 0x1b0f6536bb0>"
      ]
     },
     "execution_count": 85,
     "metadata": {},
     "output_type": "execute_result"
    },
    {
     "data": {
      "image/png": "[encoded data removed]",
      "text/plain": [
       "<Figure size 360x288 with 1 Axes>"
      ]
     },
     "metadata": {
      "needs_background": "light"
     },
     "output_type": "display_data"
    }
   ],
   "source": [
    "t3 = np.linspace(0,6,50)\n",
    "t4 = np.linspace(0,6,50)\n",
    "\n",
    "X,Y = np.meshgrid(t3, t4)\n",
    "Z = np.sin(X)*np.sin(Y)\n",
    "\n",
    "plt.figure(figsize=(5,4))\n",
    "ax = plt.axes(projection='3d')\n",
    "ax.plot_surface(X,Y,Z)"
   ]
  },
  {
   "cell_type": "markdown",
   "id": "79168cb9",
   "metadata": {},
   "source": [
    "Con meshgrid, ahora podemos graficar funciones de dos variables!"
   ]
  },
  {
   "cell_type": "code",
   "execution_count": 96,
   "id": "6c05793b",
   "metadata": {},
   "outputs": [],
   "source": [
    "#muestra las graficas dentro de jupyter\n",
    "%matplotlib inline "
   ]
  },
  {
   "cell_type": "markdown",
   "id": "079ccd64",
   "metadata": {},
   "source": [
    "### Matrices"
   ]
  },
  {
   "cell_type": "code",
   "execution_count": 147,
   "id": "8ef875ed",
   "metadata": {},
   "outputs": [
    {
     "name": "stdout",
     "output_type": "stream",
     "text": [
      "A =\n",
      " [[0. 0. 0. 0. 0.]\n",
      " [0. 0. 0. 0. 0.]\n",
      " [0. 0. 0. 0. 0.]\n",
      " [0. 0. 0. 0. 0.]]\n",
      "\n",
      "I =\n",
      " [[1. 0. 0. 0. 0.]\n",
      " [0. 1. 0. 0. 0.]\n",
      " [0. 0. 1. 0. 0.]\n",
      " [0. 0. 0. 1. 0.]\n",
      " [0. 0. 0. 0. 1.]]\n",
      "\n",
      "B =\n",
      " [[1. 1. 1. 1. 1.]\n",
      " [1. 1. 1. 1. 1.]\n",
      " [1. 1. 1. 1. 1.]\n",
      " [1. 1. 1. 1. 1.]]\n",
      "\n",
      "C =\n",
      " [[3 4 5]\n",
      " [2 1 0]\n",
      " [7 0 9]]\n",
      "\n",
      "E =\n",
      " [[ 0.3077357  -1.37248633  0.74378292  0.39936935]\n",
      " [ 1.0146325  -0.49134002 -0.15215712  0.09798356]\n",
      " [-0.69743563 -0.41221773 -2.08012759 -0.37886176]]\n"
     ]
    }
   ],
   "source": [
    "A = np.zeros((4,5))\n",
    "print('A =\\n', A)\n",
    "\n",
    "I = np.identity(5)\n",
    "print('\\nI =\\n',I)\n",
    "\n",
    "B = np.ones((4,5))\n",
    "print('\\nB =\\n', B)\n",
    "\n",
    "C = np.array([[3,4,5],[2,1,0],[7,0,9]])\n",
    "print('\\nC =\\n', C)\n",
    "\n",
    "J = np.random.normal(size=(3,4))\n",
    "print('\\nE =\\n', J)"
   ]
  },
  {
   "cell_type": "code",
   "execution_count": 133,
   "id": "7ccdcb1b",
   "metadata": {},
   "outputs": [
    {
     "name": "stdout",
     "output_type": "stream",
     "text": [
      "d =  [3 1 9]\n",
      "a1 =  [5 0 9]\n",
      "b1 =  [2 1 0]\n",
      "c1 =  [5 0]\n"
     ]
    }
   ],
   "source": [
    "d = np.diag(C) #extrae la diagonal principal de C\n",
    "print('d = ',d)\n",
    "\n",
    "a1 = C[:,2] #toma todos los elementos de la columna 3\n",
    "print('a1 = ',a1)\n",
    "\n",
    "b1 = C[1,:] #toma todos los elementos de la fila 2\n",
    "print('b1 = ',b1)\n",
    "\n",
    "c1 = C[0:2,2] #toma los elementos con indices mayores o iguales que 0 y menores que 2, de la columna 2\n",
    "print('c1 = ',c1)"
   ]
  },
  {
   "cell_type": "code",
   "execution_count": 122,
   "id": "bdb7c6e0",
   "metadata": {},
   "outputs": [
    {
     "name": "stdout",
     "output_type": "stream",
     "text": [
      "D1 =\n",
      " [[3 0 0]\n",
      " [0 1 0]\n",
      " [0 0 9]]\n",
      "\n",
      "D2 =\n",
      " [[0 3 0 0]\n",
      " [0 0 1 0]\n",
      " [0 0 0 9]\n",
      " [0 0 0 0]]\n",
      "\n",
      "D3 =\n",
      " [[0 0 0 0]\n",
      " [3 0 0 0]\n",
      " [0 1 0 0]\n",
      " [0 0 9 0]]\n"
     ]
    }
   ],
   "source": [
    "v = np.array([3,1,9]) #vector para la diagonal\n",
    "\n",
    "D1 = np.diag(v) #crea una matriz de ceros con v en la diagonal principal\n",
    "print('D1 =\\n',D1)\n",
    "\n",
    "D2 = np.diag(v, k=1) #crea una matriz de ceros con v en la diagonal 1 arriba de la principal\n",
    "print('\\nD2 =\\n',D2)\n",
    "\n",
    "D3 = np.diag(v, k=-1) #crea una matriz de ceros con v en la diagonal 1 por debajo de la principal\n",
    "print('\\nD3 =\\n',D3)"
   ]
  },
  {
   "cell_type": "markdown",
   "id": "4e72b5f2",
   "metadata": {},
   "source": [
    "### Operaciones basicas"
   ]
  },
  {
   "cell_type": "code",
   "execution_count": 146,
   "id": "5f06c93d",
   "metadata": {},
   "outputs": [
    {
     "name": "stdout",
     "output_type": "stream",
     "text": [
      "a = [4 6 8]\n",
      "b = [ 3  8 15]\n",
      "c =  26\n",
      "d =  [3 5 7]\n"
     ]
    }
   ],
   "source": [
    "s = np.array([1,2,3])\n",
    "t = np.array([3,4,5])\n",
    "\n",
    "print('a =',s+t)           #suma componente a componente \n",
    "print('b =', s*t)          #producto componente a componente \n",
    "print('c = ', np.dot(s,t)) #producto punto\n",
    "print('d = ', 2*s+1)     "
   ]
  },
  {
   "cell_type": "code",
   "execution_count": 161,
   "id": "0dfcda74",
   "metadata": {},
   "outputs": [
    {
     "name": "stdout",
     "output_type": "stream",
     "text": [
      "M =\n",
      " [[1 6 8 8]\n",
      " [5 7 2 1]\n",
      " [4 6 2 9]\n",
      " [8 9 9 7]]\n",
      "\n",
      "A = [[ 3 13 11 14]\n",
      " [ 9  9  3  8]\n",
      " [ 8 15  9 16]\n",
      " [14 18 10  8]]\n",
      "\n",
      "B = [[ 2 42 24 48]\n",
      " [20 14  2  7]\n",
      " [16 54 14 63]\n",
      " [48 81  9  7]]\n",
      "\n",
      "C = [[106 163  73 112]\n",
      " [ 52  76  37  94]\n",
      " [ 94 139  41  89]\n",
      " [130 218 103 181]]\n",
      "\n",
      "traza(M) = 17\n",
      "\n",
      "det(M) =  1687.0\n"
     ]
    }
   ],
   "source": [
    "M = np.random.randint(low=1, high=10, size=(4,4))\n",
    "N = np.random.randint(low=1, high=10, size=(4,4))\n",
    "\n",
    "print('M =\\n',M)\n",
    "print('\\nA =',M+N)\n",
    "print('\\nB =',M*N)\n",
    "print('\\nC =',np.dot(M,N))\n",
    "print('\\ntraza(M) =',np.trace(M))\n",
    "print('\\ndet(M) = ',np.linalg.det(M))"
   ]
  },
  {
   "cell_type": "code",
   "execution_count": 163,
   "id": "c8dbe774",
   "metadata": {},
   "outputs": [
    {
     "name": "stdout",
     "output_type": "stream",
     "text": [
      "sol =  [ 0.75103734  0.0746888  -0.25311203  0.22821577]\n",
      "\n",
      "e =\n",
      " [22.60335276+0.j          3.38333736+0.j         -4.49334506+1.36726504j\n",
      " -4.49334506-1.36726504j]\n",
      "\n",
      "v =\n",
      " [[ 0.49867889+0.j         -0.36870812+0.j          0.66810869+0.j\n",
      "   0.66810869-0.j        ]\n",
      " [ 0.26356345+0.j          0.78392822+0.j         -0.23703702-0.09214465j\n",
      "  -0.23703702+0.09214465j]\n",
      " [ 0.47010962+0.j         -0.29387266+0.j         -0.20921784+0.55166412j\n",
      "  -0.20921784-0.55166412j]\n",
      " [ 0.67885979+0.j         -0.40391798+0.j         -0.07177334-0.36837043j\n",
      "  -0.07177334+0.36837043j]]\n"
     ]
    }
   ],
   "source": [
    "b = np.array([1,4,5,6])\n",
    "sol = np.linalg.solve(M,b) #Soluciona el SEL M.x=b para x\n",
    "e, v = np.linalg.eig(M) #Valores propios de M: M.v = e*v\n",
    "\n",
    "print('sol = ', sol) #vector o vectores de solución\n",
    "print('\\ne =\\n',e) #valores propios\n",
    "print('\\nv =\\n',v) #vectores propios"
   ]
  },
  {
   "cell_type": "code",
   "execution_count": 171,
   "id": "a43774d5",
   "metadata": {},
   "outputs": [
    {
     "data": {
      "text/plain": [
       "array([[1, 2, 3],\n",
       "       [4, 5, 6],\n",
       "       [7, 8, 9]])"
      ]
     },
     "execution_count": 171,
     "metadata": {},
     "output_type": "execute_result"
    }
   ],
   "source": [
    "M = np.array([[1,2,3],[4,5,6],[7,8,9]])\n",
    "M"
   ]
  },
  {
   "cell_type": "code",
   "execution_count": 172,
   "id": "b3117970",
   "metadata": {},
   "outputs": [
    {
     "data": {
      "text/plain": [
       "array([1, 2, 3, 4, 5, 6, 7, 8, 9])"
      ]
     },
     "execution_count": 172,
     "metadata": {},
     "output_type": "execute_result"
    }
   ],
   "source": [
    "M.ravel()"
   ]
  },
  {
   "cell_type": "markdown",
   "id": "44dad0a6",
   "metadata": {},
   "source": [
    "## 2. Ejemplo tiro parabólico <a class=\"anchor\" id=\"section-2\"></a>"
   ]
  },
  {
   "cell_type": "markdown",
   "id": "9eb3c393",
   "metadata": {},
   "source": [
    "Una forma de graficar vectores es usando el comando `plt.quiver`"
   ]
  },
  {
   "cell_type": "code",
   "execution_count": 233,
   "id": "1270b950",
   "metadata": {},
   "outputs": [],
   "source": [
    "# Declaración de los vectores a graficar\n",
    "v = np.array([1,2])\n",
    "w = np.array([3,4])\n",
    "\n",
    "o = np.zeros(2) # Vector de la posición inicial de los vectores"
   ]
  },
  {
   "cell_type": "code",
   "execution_count": 234,
   "id": "4ccf7ac5",
   "metadata": {},
   "outputs": [
    {
     "data": {
      "image/png": "[encoded data removed]",
      "text/plain": [
       "<Figure size 360x288 with 1 Axes>"
      ]
     },
     "metadata": {
      "needs_background": "light"
     },
     "output_type": "display_data"
    }
   ],
   "source": [
    "# X,Y contienen la posición inicial de los vectores\n",
    "# U,V contienen las componentes en x, y de los vectores respectivamente\n",
    "\n",
    "X = o\n",
    "Y = o\n",
    "U = np.array([v[0],w[0]])\n",
    "V = np.array([v[1],w[1]])\n",
    "\n",
    "plt.figure(figsize=(5,4))\n",
    "\n",
    "# Graficamos los vectore\n",
    "plt.quiver(X,Y,U,V,color='cyan',angles='xy', scale_units='xy', scale=1)\n",
    "#angles, scale_units, scale: hacen que los vectores se grafiquen de forma normal, sin alterar\n",
    "#su tamaño o dirección.\n",
    "\n",
    "# Graficamos puntos\n",
    "plt.plot(o,o,'ob') #puntos iniciales\n",
    "plt.plot(o+U,o+V,'or') #puntos finales\n",
    "\n",
    "# Ajustamos los límites del plot para poder ver los vectores\n",
    "plt.xlim(-0.5,6)\n",
    "plt.ylim(-0.5,6)\n",
    "\n",
    "plt.show()"
   ]
  },
  {
   "cell_type": "markdown",
   "id": "345d745a",
   "metadata": {},
   "source": [
    "A continuación se muestra el ejemplo:"
   ]
  },
  {
   "cell_type": "code",
   "execution_count": 238,
   "id": "4a77088b",
   "metadata": {},
   "outputs": [
    {
     "data": {
      "image/png": "[encoded data removed]",
      "text/plain": [
       "<Figure size 504x288 with 1 Axes>"
      ]
     },
     "metadata": {
      "needs_background": "light"
     },
     "output_type": "display_data"
    }
   ],
   "source": [
    "# valores iniciales (modifícalos bajo tu responsabilidad)\n",
    "v0 = 20 ## v en m/s\n",
    "y0=5\n",
    "x0=0\n",
    "alfa = 60 ## ángulo en grados\n",
    "g = 9.81 ## Aceleración de la gravedad\n",
    "\n",
    "## ecuaciones\n",
    "v0x = v0 * np.cos(np.deg2rad(alfa))\n",
    "v0y = v0 * np.sin(np.deg2rad(alfa))\n",
    "t_total = (-v0y-np.sqrt((v0y**2)+2*g*y0))/(-g)\n",
    "\n",
    "## graficando trayectoria\n",
    "t=np.linspace(0,t_total,100)\n",
    "x=v0x*t + x0\n",
    "y=(-g*(t**2))/2 + v0y*t + y0\n",
    "vx=v0x\n",
    "vy=v0y-g*t\n",
    "plt.figure(figsize=(7,4))\n",
    "plt.plot(x,y,color='red', label='trayectoria')\n",
    "\n",
    "## graficando vectores\n",
    "n=10 #No. de vectores\n",
    "t=np.linspace(0,t_total,n)\n",
    "x1=v0x*t + x0\n",
    "y1=(-g*(t**2))/2 + v0y*t + y0\n",
    "vx1=np.zeros(n)+v0x\n",
    "vy1=v0y-g*t\n",
    "\n",
    "X = np.zeros(n) #situamos el origen de los vectores posición en el origen\n",
    "Y = np.zeros(n)\n",
    "U = x1 #puntos de la trayectoria en x\n",
    "V = y1 #puntos de la trayectoria en y\n",
    "\n",
    "## Titulos, labels, tamaño de letra\n",
    "plt.title('Parabolic shot')\n",
    "plt.xlabel(R'Horizontal position [m]')\n",
    "plt.ylabel(R'Vertical position [m]')\n",
    "plt.rc('font',size=16)\n",
    "\n",
    "## Uso de quiver para graficar los vectores\n",
    "plt.quiver(X, Y, U, V, scale_units='xy',angles='xy',scale=1, color='blue',width=0.003, label='posición')\n",
    "plt.quiver(U, V, vx1, vy1, scale_units='xy',angles='xy',scale=2, color='cyan',width=0.003, label='velocidad')\n",
    "\n",
    "#scale: ajusta el tamaño de los vectores en pantalla\n",
    "\n",
    "## Mostramos la leyenda\n",
    "plt.legend(fontsize=11)\n",
    "plt.show()"
   ]
  },
  {
   "cell_type": "markdown",
   "id": "937f3d27",
   "metadata": {},
   "source": [
    "## 3. Ajuste de datos <a class=\"anchor\" id=\"section-3\"></a>"
   ]
  },
  {
   "cell_type": "markdown",
   "id": "fdc207fe",
   "metadata": {},
   "source": [
    "### Lectura de datos"
   ]
  },
  {
   "cell_type": "markdown",
   "id": "d66dba23",
   "metadata": {},
   "source": [
    "Para la lectura de datos se usará el comando:"
   ]
  },
  {
   "cell_type": "code",
   "execution_count": 244,
   "id": "1213bfdc",
   "metadata": {},
   "outputs": [],
   "source": [
    "M=np.loadtxt('presion_temp.txt', delimiter=' ', comments='#',skiprows=1,unpack=True, usecols=(0,3))"
   ]
  },
  {
   "cell_type": "markdown",
   "id": "9bff4f67",
   "metadata": {},
   "source": [
    "Este comando tiene las siguientes entradas:\n",
    " * `filename`: nombre del archivo\n",
    " * `delimiter=' '`: delimitador de los datos del archivo\n",
    " * `coments='#'`: hace que las líneas que empiecen con '#' sean ignoradas\n",
    " * `skiprows=1`: hace que el comando se salte 1 linea, empezando a leer desde la siguiente\n",
    " * `unpack=True`: traspone los datos del archivo por eficiencia\n",
    " * `usecols=(0,3)`: hace que el comando solamente lea las columnas 0 y 3"
   ]
  },
  {
   "cell_type": "code",
   "execution_count": 243,
   "id": "296d2183",
   "metadata": {},
   "outputs": [
    {
     "name": "stdout",
     "output_type": "stream",
     "text": [
      "datos =\n",
      " [[0.000e+00 2.000e+02 4.000e+02 6.000e+02 8.000e+02 1.000e+03 1.200e+03\n",
      "  1.400e+03 1.600e+03 1.800e+03 2.000e+03 2.200e+03 2.400e+03 2.600e+03\n",
      "  2.800e+03 3.000e+03 3.200e+03 3.400e+03 3.600e+03 3.800e+03 4.000e+03\n",
      "  4.200e+03 4.400e+03 4.600e+03 4.800e+03 5.000e+03 5.200e+03 5.400e+03\n",
      "  5.600e+03 5.800e+03 6.000e+03 6.200e+03 6.400e+03 6.600e+03 6.800e+03\n",
      "  7.000e+03 8.000e+03 9.000e+03 1.000e+04 1.200e+04 1.400e+04 1.600e+04\n",
      "  1.800e+04]\n",
      " [9.807e+00 9.806e+00 9.805e+00 9.805e+00 9.804e+00 9.804e+00 9.803e+00\n",
      "  9.802e+00 9.802e+00 9.801e+00 9.800e+00 9.800e+00 9.799e+00 9.799e+00\n",
      "  9.798e+00 9.797e+00 9.797e+00 9.796e+00 9.796e+00 9.795e+00 9.794e+00\n",
      "  9.794e+00 9.793e+00 9.793e+00 9.792e+00 9.791e+00 9.791e+00 9.790e+00\n",
      "  9.789e+00 9.785e+00 9.788e+00 9.788e+00 9.787e+00 9.786e+00 9.785e+00\n",
      "  9.785e+00 9.782e+00 9.779e+00 9.776e+00 9.770e+00 9.764e+00 9.758e+00\n",
      "  9.751e+00]]\n"
     ]
    }
   ],
   "source": [
    "print('datos =\\n', M)"
   ]
  },
  {
   "cell_type": "markdown",
   "id": "2024e5c4",
   "metadata": {},
   "source": [
    "Observe que M contiene dos vectores, donde el primero corresponde a los datos de altura, y el segundo, a los datos de gravedad."
   ]
  },
  {
   "cell_type": "code",
   "execution_count": 245,
   "id": "7ab9f0e5",
   "metadata": {},
   "outputs": [],
   "source": [
    "# ALmacenamos los datos de altura y gravedad\n",
    "h=M[0]\n",
    "g=M[1]"
   ]
  },
  {
   "cell_type": "code",
   "execution_count": 271,
   "id": "a55a2a86",
   "metadata": {
    "scrolled": true
   },
   "outputs": [
    {
     "data": {
      "image/png": "[encoded data removed]",
      "text/plain": [
       "<Figure size 432x288 with 1 Axes>"
      ]
     },
     "metadata": {
      "needs_background": "light"
     },
     "output_type": "display_data"
    }
   ],
   "source": [
    "plt.figure(figsize=(6,4))\n",
    "plt.plot(h,g,'b*')\n",
    "plt.title('Aceleración gravedad vs Altura')\n",
    "plt.xlabel(R'Altura sobre el nivel del mar [$m$]')\n",
    "plt.ylabel(R'Aceleración gravedad [$m/s$]')\n",
    "plt.show()"
   ]
  },
  {
   "cell_type": "markdown",
   "id": "41559804",
   "metadata": {},
   "source": [
    "\\\n",
    "Defininmos una función de ajuste para la gravedad como:\n",
    "\n",
    "$$g = \\frac{G.m_T}{r^2}$$\n",
    "Donde:\n",
    "* $g$ es el valor de la gravedad\n",
    "* $G$ es la cte. gravitacional\n",
    "* $r$ es la distancia desde el centro de la tierra hasta un punto\n",
    "* $m_T$ es la masa de la Tierra"
   ]
  },
  {
   "cell_type": "code",
   "execution_count": 258,
   "id": "f326e8c7",
   "metadata": {},
   "outputs": [],
   "source": [
    "def gravedad(H, a, R):\n",
    "    return a/((R+H)**2)\n",
    "\n",
    "#H es la altura sobre el nivel del mar\n",
    "#R y a son constantes que se desean hallar: \n",
    "#R: radio de la Tierra\n",
    "#a: es igual a G*mT"
   ]
  },
  {
   "cell_type": "code",
   "execution_count": 274,
   "id": "40606a42",
   "metadata": {},
   "outputs": [
    {
     "ename": "RuntimeError",
     "evalue": "Optimal parameters not found: Number of calls to function has reached maxfev = 600.",
     "output_type": "error",
     "traceback": [
      "\u001b[1;31m---------------------------------------------------------------------------\u001b[0m",
      "\u001b[1;31mRuntimeError\u001b[0m                              Traceback (most recent call last)",
      "\u001b[1;32m<ipython-input-274-19a3ed3f091b>\u001b[0m in \u001b[0;36m<module>\u001b[1;34m\u001b[0m\n\u001b[1;32m----> 1\u001b[1;33m \u001b[0mbest_val\u001b[0m\u001b[1;33m,\u001b[0m \u001b[0mcovar\u001b[0m \u001b[1;33m=\u001b[0m \u001b[0mcurve_fit\u001b[0m\u001b[1;33m(\u001b[0m\u001b[0mgravedad\u001b[0m\u001b[1;33m,\u001b[0m \u001b[0mh\u001b[0m\u001b[1;33m,\u001b[0m \u001b[0mg\u001b[0m\u001b[1;33m)\u001b[0m\u001b[1;33m\u001b[0m\u001b[1;33m\u001b[0m\u001b[0m\n\u001b[0m\u001b[0;32m      2\u001b[0m \u001b[1;33m\u001b[0m\u001b[0m\n\u001b[0;32m      3\u001b[0m \u001b[1;31m#best_val: mejores parametros de ajuste encontrados\u001b[0m\u001b[1;33m\u001b[0m\u001b[1;33m\u001b[0m\u001b[1;33m\u001b[0m\u001b[0m\n\u001b[0;32m      4\u001b[0m \u001b[1;31m#covar: matriz de covarianza\u001b[0m\u001b[1;33m\u001b[0m\u001b[1;33m\u001b[0m\u001b[1;33m\u001b[0m\u001b[0m\n\u001b[0;32m      5\u001b[0m \u001b[1;33m\u001b[0m\u001b[0m\n",
      "\u001b[1;32m~\\anaconda3\\lib\\site-packages\\scipy\\optimize\\minpack.py\u001b[0m in \u001b[0;36mcurve_fit\u001b[1;34m(f, xdata, ydata, p0, sigma, absolute_sigma, check_finite, bounds, method, jac, **kwargs)\u001b[0m\n\u001b[0;32m    787\u001b[0m         \u001b[0mcost\u001b[0m \u001b[1;33m=\u001b[0m \u001b[0mnp\u001b[0m\u001b[1;33m.\u001b[0m\u001b[0msum\u001b[0m\u001b[1;33m(\u001b[0m\u001b[0minfodict\u001b[0m\u001b[1;33m[\u001b[0m\u001b[1;34m'fvec'\u001b[0m\u001b[1;33m]\u001b[0m \u001b[1;33m**\u001b[0m \u001b[1;36m2\u001b[0m\u001b[1;33m)\u001b[0m\u001b[1;33m\u001b[0m\u001b[1;33m\u001b[0m\u001b[0m\n\u001b[0;32m    788\u001b[0m         \u001b[1;32mif\u001b[0m \u001b[0mier\u001b[0m \u001b[1;32mnot\u001b[0m \u001b[1;32min\u001b[0m \u001b[1;33m[\u001b[0m\u001b[1;36m1\u001b[0m\u001b[1;33m,\u001b[0m \u001b[1;36m2\u001b[0m\u001b[1;33m,\u001b[0m \u001b[1;36m3\u001b[0m\u001b[1;33m,\u001b[0m \u001b[1;36m4\u001b[0m\u001b[1;33m]\u001b[0m\u001b[1;33m:\u001b[0m\u001b[1;33m\u001b[0m\u001b[1;33m\u001b[0m\u001b[0m\n\u001b[1;32m--> 789\u001b[1;33m             \u001b[1;32mraise\u001b[0m \u001b[0mRuntimeError\u001b[0m\u001b[1;33m(\u001b[0m\u001b[1;34m\"Optimal parameters not found: \"\u001b[0m \u001b[1;33m+\u001b[0m \u001b[0merrmsg\u001b[0m\u001b[1;33m)\u001b[0m\u001b[1;33m\u001b[0m\u001b[1;33m\u001b[0m\u001b[0m\n\u001b[0m\u001b[0;32m    790\u001b[0m     \u001b[1;32melse\u001b[0m\u001b[1;33m:\u001b[0m\u001b[1;33m\u001b[0m\u001b[1;33m\u001b[0m\u001b[0m\n\u001b[0;32m    791\u001b[0m         \u001b[1;31m# Rename maxfev (leastsq) to max_nfev (least_squares), if specified.\u001b[0m\u001b[1;33m\u001b[0m\u001b[1;33m\u001b[0m\u001b[1;33m\u001b[0m\u001b[0m\n",
      "\u001b[1;31mRuntimeError\u001b[0m: Optimal parameters not found: Number of calls to function has reached maxfev = 600."
     ]
    }
   ],
   "source": [
    "best_val, covar = curve_fit(gravedad, h, g) #curve_fit(funcion, datos de entrada, datos de salida)\n",
    "\n",
    "#best_val: mejores parametros de ajuste encontrados\n",
    "#covar: matriz de covarianza\n",
    "\n",
    "Gmt = best_val[0]\n",
    "R = best_val[1]\n",
    "print('G*mt=', Gmt, 'R=', R, 'Desviación estandar=', np.sqrt(np.diag(covar)))"
   ]
  },
  {
   "cell_type": "code",
   "execution_count": 260,
   "id": "1f1c99a0",
   "metadata": {},
   "outputs": [],
   "source": [
    "# Valores conocidos\n",
    "\n",
    "G = 6.67 * (10**-11) #cte. de gravitación\n",
    "mT = 6 * (10**24) #masa de la tierra\n",
    "rT = 6.4*(10**6) #radio de la tierra"
   ]
  },
  {
   "cell_type": "markdown",
   "id": "691840b9",
   "metadata": {},
   "source": [
    "\\\n",
    "Podemos asignarle estos valores conocidos al comando `curve_fit` para que los tome en cuenta al momento de hacer el ajuste."
   ]
  },
  {
   "cell_type": "code",
   "execution_count": 281,
   "id": "9451eba5",
   "metadata": {},
   "outputs": [
    {
     "name": "stdout",
     "output_type": "stream",
     "text": [
      "\n",
      "G.mT = 397147331996641.8 [N.m^2] \n",
      "\n",
      "R = 6363813.241360652 [m]\n",
      "\n",
      "Desviación estándar G.mT= 6468223376167.94 [N.m^2]\n",
      "\n",
      "Desviación estándar R= 51863.01270582741 [m]\n"
     ]
    }
   ],
   "source": [
    "par_inicial = [G*mT, rT]\n",
    "\n",
    "best_val,covar=curve_fit(gravedad, h, g, p0 = par_inicial)\n",
    "\n",
    "#best_val: mejores parametros de ajuste encontrados\n",
    "#covar: matriz de covarianza\n",
    "\n",
    "GmT=best_val[0]\n",
    "R=best_val[1]\n",
    "\n",
    "print('\\nG.mT =', Gmt,'[N.m^2]', '\\n\\nR =', R, '[m]')\n",
    "\n",
    "var = np.sqrt(np.diag(covar))\n",
    "print('\\nDesviación estándar G.mT=', var[0],'[N.m^2]')\n",
    "print('\\nDesviación estándar R=', var[1],'[m]')"
   ]
  },
  {
   "cell_type": "code",
   "execution_count": 273,
   "id": "895592a4",
   "metadata": {},
   "outputs": [
    {
     "data": {
      "image/png": "[encoded data removed]",
      "text/plain": [
       "<Figure size 432x288 with 1 Axes>"
      ]
     },
     "metadata": {
      "needs_background": "light"
     },
     "output_type": "display_data"
    }
   ],
   "source": [
    "ht=np.linspace(h[0],h[-1], 1000)\n",
    "plt.figure(figsize=(6,4))\n",
    "plt.plot(h,g,'b*')\n",
    "plt.plot(ht,fun(ht, GmT, R), 'r-')\n",
    "plt.title('Aceleración gravedad vs Altura')\n",
    "plt.xlabel(R'Altura sobre el nivel del mar [$m$]')\n",
    "plt.ylabel(R'Aceleración gravedad [$m/s$]')\n",
    "plt.show()"
   ]
  },
  {
   "cell_type": "markdown",
   "id": "f0f16994",
   "metadata": {},
   "source": [
    "## 3. Machine learning <a class=\"anchor\" id=\"section-4\"></a>"
   ]
  },
  {
   "cell_type": "markdown",
   "id": "03cb88d7",
   "metadata": {},
   "source": [
    "Se declara una clase, llamada perceptron, para los comandos de machine learning"
   ]
  },
  {
   "cell_type": "code",
   "execution_count": 282,
   "id": "c7bb4da8",
   "metadata": {},
   "outputs": [],
   "source": [
    "class Perceptron(object):\n",
    "    \n",
    "    def __init__(self, eta=0.1, n_iter=8):\n",
    "        # in the class initializer we set the learning rate(eta) \n",
    "        # and number of iterations to run(n_iter)\n",
    "        self.eta = eta\n",
    "        self.n_iter = n_iter\n",
    "    \n",
    "    def fit(self, X, y):\n",
    "        # pass in the X and y to fit our new perceptron model\n",
    "        # initiate our numpy array of weights and array of errors\n",
    "        self.w_ = np.zeros(1 + X.shape[1])\n",
    "        self.errors_ = []\n",
    "        \n",
    "        # train our model by looping n_iter times\n",
    "        for _ in range(self.n_iter):\n",
    "            errors = 0\n",
    "            for xi, target in zip(X,y):\n",
    "                # for each individual X and y data pair, update the\n",
    "                # update our model weights via learning rate * prediction error\n",
    "                update = self.eta * (target - self.predict(xi))\n",
    "                self.w_[1:] += update * xi\n",
    "                self.w_[0] += update\n",
    "                errors += int(update != 0.0)\n",
    "            self.errors_.append(errors)\n",
    "\n",
    "        # return our model after it has passed n_iter times through our training dataset\n",
    "        return self\n",
    "    \n",
    "    def net_input(self, X):\n",
    "        # helper function for predict function\n",
    "        # to get the value for weights * x + weight_0\n",
    "        return np.dot(X,self.w_[1:]) + self.w_[0]\n",
    "    \n",
    "    def predict(self, X):\n",
    "        # predict on unseen data with our trained model\n",
    "        return np.where(self.net_input(X) >= 0.0, 1, -1)"
   ]
  },
  {
   "cell_type": "markdown",
   "id": "c55709af",
   "metadata": {},
   "source": [
    "\\\n",
    "Leemos y mostramos una parte del conjunto de datos:"
   ]
  },
  {
   "cell_type": "code",
   "execution_count": 286,
   "id": "0d96d26e",
   "metadata": {
    "scrolled": true
   },
   "outputs": [
    {
     "name": "stdout",
     "output_type": "stream",
     "text": [
      "==================================================\n",
      "Section: Training a perceptron model on the Iris dataset\n",
      "--------------------------------------------------\n",
      "       0    1    2    3               4\n",
      "145  6.7  3.0  5.2  2.3  Iris-virginica\n",
      "146  6.3  2.5  5.0  1.9  Iris-virginica\n",
      "147  6.5  3.0  5.2  2.0  Iris-virginica\n",
      "148  6.2  3.4  5.4  2.3  Iris-virginica\n",
      "149  5.9  3.0  5.1  1.8  Iris-virginica\n"
     ]
    }
   ],
   "source": [
    "print(50 * '=')\n",
    "print('Section: Training a perceptron model on the Iris dataset')\n",
    "print(50 * '-')\n",
    "\n",
    "filename =\"iris.data\"\n",
    "df = pd.read_csv(filename, header=None)\n",
    "print(df.tail())"
   ]
  },
  {
   "cell_type": "markdown",
   "id": "b0be7677",
   "metadata": {},
   "source": [
    "Mostramos el conjunto de datos de setosa y versicolor en una imagen"
   ]
  },
  {
   "cell_type": "code",
   "execution_count": 288,
   "id": "db758e6e",
   "metadata": {
    "scrolled": true
   },
   "outputs": [
    {
     "name": "stdout",
     "output_type": "stream",
     "text": [
      "==================================================\n",
      "Plotting the Iris data\n",
      "--------------------------------------------------\n"
     ]
    },
    {
     "data": {
      "image/png": "[encoded data removed]",
      "text/plain": [
       "<Figure size 432x288 with 1 Axes>"
      ]
     },
     "metadata": {
      "needs_background": "light"
     },
     "output_type": "display_data"
    }
   ],
   "source": [
    "print(50 * '=')\n",
    "print('Plotting the Iris data')\n",
    "print(50 * '-')\n",
    "\n",
    "# extract sepal length and petal length\n",
    "X = df.iloc[0:100, [0, 2]].values\n",
    "\n",
    "# plot data\n",
    "plt.scatter(X[0:50, 0], X[0:50, 1],color='red', marker='o', label='setosa')\n",
    "plt.scatter(X[50:100, 0], X[50:100, 1],color='blue', marker='x', label='versicolor')\n",
    "\n",
    "plt.xlabel('sepal length [cm]')\n",
    "plt.ylabel('petal length [cm]')\n",
    "plt.legend(loc='upper left')\n",
    "\n",
    "#plt.tight_layout()\n",
    "# plt.savefig('./images/02_06.png', dpi=300)\n",
    "plt.show()"
   ]
  },
  {
   "cell_type": "markdown",
   "id": "bb0894be",
   "metadata": {},
   "source": [
    "\\\n",
    "Realizamos el entrenamiento de datos, para obtener una predicción."
   ]
  },
  {
   "cell_type": "code",
   "execution_count": 291,
   "id": "dd2c4613",
   "metadata": {
    "scrolled": true
   },
   "outputs": [
    {
     "name": "stdout",
     "output_type": "stream",
     "text": [
      "==================================================\n",
      "Training the perceptron model\n",
      "--------------------------------------------------\n"
     ]
    },
    {
     "data": {
      "text/plain": [
       "<__main__.Perceptron at 0x1b0fa1f59d0>"
      ]
     },
     "execution_count": 291,
     "metadata": {},
     "output_type": "execute_result"
    }
   ],
   "source": [
    "print(50 * '=')\n",
    "print('Training the perceptron model')\n",
    "print(50 * '-')\n",
    "\n",
    "# select setosa and versicolor\n",
    "y = df.iloc[0:100, 4].values\n",
    "y = np.where(y == 'Iris-setosa', -1, 1)\n",
    "\n",
    "ppn = Perceptron(eta=1, n_iter=10)\n",
    "ppn.fit(X, y)"
   ]
  },
  {
   "cell_type": "markdown",
   "id": "4a09bc4e",
   "metadata": {},
   "source": [
    "\\\n",
    "Graficamos los errores que hubieron en cada iteracción"
   ]
  },
  {
   "cell_type": "code",
   "execution_count": 290,
   "id": "ca4d6427",
   "metadata": {},
   "outputs": [
    {
     "data": {
      "image/png": "[encoded data removed]",
      "text/plain": [
       "<Figure size 432x288 with 1 Axes>"
      ]
     },
     "metadata": {
      "needs_background": "light"
     },
     "output_type": "display_data"
    }
   ],
   "source": [
    "plt.plot(range(1, len(ppn.errors_) + 1), ppn.errors_, marker='o')\n",
    "plt.xlabel('Epochs')\n",
    "plt.ylabel('Number of misclassifications')\n",
    "\n",
    "# plt.tight_layout()\n",
    "# plt.savefig('./perceptron_1.png', dpi=300)\n",
    "plt.show()"
   ]
  },
  {
   "cell_type": "markdown",
   "id": "72aaa936",
   "metadata": {},
   "source": [
    "\\\n",
    "Mostramos la predicción realizada"
   ]
  },
  {
   "cell_type": "code",
   "execution_count": 292,
   "id": "5c6d6f75",
   "metadata": {},
   "outputs": [
    {
     "name": "stdout",
     "output_type": "stream",
     "text": [
      "==================================================\n",
      "A function for plotting decision regions\n",
      "--------------------------------------------------\n"
     ]
    },
    {
     "name": "stderr",
     "output_type": "stream",
     "text": [
      "*c* argument looks like a single numeric RGB or RGBA sequence, which should be avoided as value-mapping will have precedence in case its length matches with *x* & *y*.  Please use the *color* keyword-argument or provide a 2-D array with a single row if you intend to specify the same RGB or RGBA value for all points.\n",
      "*c* argument looks like a single numeric RGB or RGBA sequence, which should be avoided as value-mapping will have precedence in case its length matches with *x* & *y*.  Please use the *color* keyword-argument or provide a 2-D array with a single row if you intend to specify the same RGB or RGBA value for all points.\n"
     ]
    },
    {
     "data": {
      "image/png": "[encoded data removed]",
      "text/plain": [
       "<Figure size 432x288 with 1 Axes>"
      ]
     },
     "metadata": {
      "needs_background": "light"
     },
     "output_type": "display_data"
    }
   ],
   "source": [
    "print(50 * '=')\n",
    "print('A function for plotting decision regions')\n",
    "print(50 * '-')\n",
    "\n",
    "\n",
    "def plot_decision_regions(X, y, classifier, resolution=0.01):\n",
    "\n",
    "    # setup marker generator and color map\n",
    "    markers = ('s', 'x', 'o', '^', 'v')\n",
    "    colors = ('red', 'blue', 'lightgreen', 'gray', 'cyan')\n",
    "    cmap = ListedColormap(colors[:len(np.unique(y))])\n",
    "\n",
    "    # plot the decision surface\n",
    "    x1_min, x1_max = X[:, 0].min() - 1, X[:, 0].max() + 1\n",
    "    x2_min, x2_max = X[:, 1].min() - 1, X[:, 1].max() + 1\n",
    "    xx1, xx2 = np.meshgrid(np.arange(x1_min, x1_max, resolution),\n",
    "                           np.arange(x2_min, x2_max, resolution))\n",
    "    Z = classifier.predict(np.array([xx1.ravel(), xx2.ravel()]).T)\n",
    "    Z = Z.reshape(xx1.shape)\n",
    "    plt.contourf(xx1, xx2, Z, alpha=0.4, cmap=cmap)\n",
    "    plt.xlim(xx1.min(), xx1.max())\n",
    "    plt.ylim(xx2.min(), xx2.max())\n",
    "\n",
    "    # plot class samples\n",
    "    for idx, cl in enumerate(np.unique(y)):\n",
    "        plt.scatter(x=X[y == cl, 0], y=X[y == cl, 1],\n",
    "                    alpha=0.5, c=cmap(idx),\n",
    "                    marker=markers[idx], label=cl)\n",
    "\n",
    "\n",
    "plot_decision_regions(X, y, classifier=ppn)\n",
    "plt.xlabel('sepal length [cm]')\n",
    "plt.ylabel('petal length [cm]')\n",
    "plt.legend(loc='upper left')\n",
    "\n",
    "# plt.tight_layout()\n",
    "# plt.savefig('./perceptron_2.png', dpi=300)\n",
    "plt.show()"
   ]
  }
 ],
 "metadata": {
  "kernelspec": {
   "display_name": "Python 3 (ipykernel)",
   "language": "python",
   "name": "python3"
  },
  "language_info": {
   "codemirror_mode": {
    "name": "ipython",
    "version": 3
   },
   "file_extension": ".py",
   "mimetype": "text/x-python",
   "name": "python",
   "nbconvert_exporter": "python",
   "pygments_lexer": "ipython3",
   "version": "3.9.7"
  }
 },
 "nbformat": 4,
 "nbformat_minor": 5
}
